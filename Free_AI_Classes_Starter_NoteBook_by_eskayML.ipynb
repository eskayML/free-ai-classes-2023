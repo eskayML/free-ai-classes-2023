{
  "cells": [
    {
      "cell_type": "markdown",
      "metadata": {
        "id": "view-in-github",
        "colab_type": "text"
      },
      "source": [
        "<a href=\"https://colab.research.google.com/github/eskayML/free-ai-classes-2023/blob/main/Free_AI_Classes_Starter_NoteBook_by_eskayML.ipynb\" target=\"_parent\"><img src=\"https://colab.research.google.com/assets/colab-badge.svg\" alt=\"Open In Colab\"/></a>"
      ]
    },
    {
      "cell_type": "markdown",
      "source": [
        "# FINAL COPY PUSHED ON 7TH OF AUGUST (after the close of the competition)\n",
        "zindi username: **eskayML**"
      ],
      "metadata": {
        "id": "FE0YSOSuBOHe"
      }
    },
    {
      "cell_type": "code",
      "execution_count": 1,
      "metadata": {
        "colab": {
          "base_uri": "https://localhost:8080/"
        },
        "id": "SkCuENorCUX7",
        "outputId": "e7a78f7c-a247-437f-a427-0e4dc254df44"
      },
      "outputs": [
        {
          "output_type": "stream",
          "name": "stdout",
          "text": [
            "\u001b[2K     \u001b[90m━━━━━━━━━━━━━━━━━━━━━━━━━━━━━━━━━━━━━━━━\u001b[0m \u001b[32m98.6/98.6 MB\u001b[0m \u001b[31m9.7 MB/s\u001b[0m eta \u001b[36m0:00:00\u001b[0m\n",
            "\u001b[2K     \u001b[90m━━━━━━━━━━━━━━━━━━━━━━━━━━━━━━━━━━━━━━\u001b[0m \u001b[32m404.2/404.2 kB\u001b[0m \u001b[31m39.0 MB/s\u001b[0m eta \u001b[36m0:00:00\u001b[0m\n",
            "\u001b[2K     \u001b[90m━━━━━━━━━━━━━━━━━━━━━━━━━━━━━━━━━━━━━━\u001b[0m \u001b[32m153.4/153.4 kB\u001b[0m \u001b[31m18.8 MB/s\u001b[0m eta \u001b[36m0:00:00\u001b[0m\n",
            "\u001b[?25h  Preparing metadata (setup.py) ... \u001b[?25l\u001b[?25hdone\n",
            "\u001b[2K     \u001b[90m━━━━━━━━━━━━━━━━━━━━━━━━━━━━━━━━━━━━━━\u001b[0m \u001b[32m225.3/225.3 kB\u001b[0m \u001b[31m25.1 MB/s\u001b[0m eta \u001b[36m0:00:00\u001b[0m\n",
            "\u001b[2K     \u001b[90m━━━━━━━━━━━━━━━━━━━━━━━━━━━━━━━━━━━━━━━━\u001b[0m \u001b[32m78.7/78.7 kB\u001b[0m \u001b[31m10.4 MB/s\u001b[0m eta \u001b[36m0:00:00\u001b[0m\n",
            "\u001b[?25h  Building wheel for pyod (setup.py) ... \u001b[?25l\u001b[?25hdone\n",
            "Archive:  /content/free-ai-classes-in-every-city-hackathon-2023.zip\n",
            "  inflating: Sample_submission.csv   \n",
            "  inflating: Housing_dataset_train.csv  \n",
            "  inflating: Housing_dataset_test.csv  \n"
          ]
        }
      ],
      "source": [
        "!pip install catboost optuna -q\n",
        "!unzip /content/free-ai-classes-in-every-city-hackathon-2023.zip"
      ]
    },
    {
      "cell_type": "markdown",
      "metadata": {
        "id": "vc2ShcQFyw5d"
      },
      "source": [
        "## 1. IMPORT REQUIRED PACKAGES/ LIBRARIES"
      ]
    },
    {
      "cell_type": "code",
      "execution_count": 2,
      "metadata": {
        "id": "lgVjNh-cyvu3"
      },
      "outputs": [],
      "source": [
        "import numpy as np\n",
        "import pandas as pd\n",
        "import matplotlib.pyplot as plt\n",
        "import seaborn as sns\n",
        "from sklearn import metrics\n",
        "from sklearn.model_selection import  train_test_split,cross_val_score, cross_val_predict,KFold\n",
        "from sklearn.metrics import mean_squared_error\n",
        "from sklearn.impute import SimpleImputer\n",
        "from sklearn.preprocessing import LabelEncoder,MinMaxScaler,StandardScaler , PowerTransformer\n",
        "from sklearn.ensemble import RandomForestRegressor, HistGradientBoostingRegressor\n",
        "from sklearn.tree import DecisionTreeRegressor\n",
        "from sklearn.neighbors import KNeighborsRegressor\n",
        "from xgboost import XGBRegressor\n",
        "from lightgbm import LGBMRegressor\n",
        "from catboost import CatBoostRegressor\n",
        "from sklearn.feature_extraction.text import TfidfVectorizer,CountVectorizer\n",
        "from sklearn.ensemble import VotingRegressor\n",
        "\n",
        "\n",
        "import warnings\n",
        "warnings.filterwarnings('ignore')"
      ]
    },
    {
      "cell_type": "markdown",
      "metadata": {
        "id": "K8dNWff_zHs_"
      },
      "source": [
        "# 2. LOAD DATA"
      ]
    },
    {
      "cell_type": "code",
      "execution_count": 3,
      "metadata": {
        "id": "4ypraz9dzhQr"
      },
      "outputs": [],
      "source": [
        "train = pd.read_csv('Housing_dataset_train.csv')\n",
        "test = pd.read_csv('Housing_dataset_test.csv')\n",
        "sample_sub = pd.read_csv('Sample_submission.csv')"
      ]
    },
    {
      "cell_type": "code",
      "source": [
        "train.isna().sum() , test.isna().sum()"
      ],
      "metadata": {
        "colab": {
          "base_uri": "https://localhost:8080/"
        },
        "id": "jW39-ICSofTe",
        "outputId": "3a7ee660-da25-4842-b92d-f3b3f724a17f"
      },
      "execution_count": 4,
      "outputs": [
        {
          "output_type": "execute_result",
          "data": {
            "text/plain": [
              "(ID                  0\n",
              " loc              1813\n",
              " title            1722\n",
              " bedroom          1799\n",
              " bathroom         1805\n",
              " parking_space    1811\n",
              " price               0\n",
              " dtype: int64,\n",
              " ID               0\n",
              " loc              0\n",
              " title            0\n",
              " bedroom          0\n",
              " bathroom         0\n",
              " parking_space    0\n",
              " dtype: int64)"
            ]
          },
          "metadata": {},
          "execution_count": 4
        }
      ]
    },
    {
      "cell_type": "code",
      "execution_count": 5,
      "metadata": {
        "id": "xxCpWaM-85Fb",
        "colab": {
          "base_uri": "https://localhost:8080/",
          "height": 206
        },
        "outputId": "f3139b56-c50c-4576-dafe-267ab9fbc533"
      },
      "outputs": [
        {
          "output_type": "execute_result",
          "data": {
            "text/plain": [
              "      ID      loc                 title  bedroom  bathroom  parking_space  \\\n",
              "0   3583  Katsina  Semi-detached duplex      2.0       2.0            1.0   \n",
              "1   2748     Ondo             Apartment      NaN       2.0            4.0   \n",
              "2   9261    Ekiti                   NaN      7.0       5.0            NaN   \n",
              "3   2224  Anambra       Detached duplex      5.0       2.0            4.0   \n",
              "4  10300     Kogi        Terrace duplex      NaN       5.0            6.0   \n",
              "\n",
              "         price  \n",
              "0  1149999.565  \n",
              "1  1672416.689  \n",
              "2  3364799.814  \n",
              "3  2410306.756  \n",
              "4  2600700.898  "
            ],
            "text/html": [
              "\n",
              "\n",
              "  <div id=\"df-6c8341d5-6d62-4a39-8453-63da1dfa0b27\">\n",
              "    <div class=\"colab-df-container\">\n",
              "      <div>\n",
              "<style scoped>\n",
              "    .dataframe tbody tr th:only-of-type {\n",
              "        vertical-align: middle;\n",
              "    }\n",
              "\n",
              "    .dataframe tbody tr th {\n",
              "        vertical-align: top;\n",
              "    }\n",
              "\n",
              "    .dataframe thead th {\n",
              "        text-align: right;\n",
              "    }\n",
              "</style>\n",
              "<table border=\"1\" class=\"dataframe\">\n",
              "  <thead>\n",
              "    <tr style=\"text-align: right;\">\n",
              "      <th></th>\n",
              "      <th>ID</th>\n",
              "      <th>loc</th>\n",
              "      <th>title</th>\n",
              "      <th>bedroom</th>\n",
              "      <th>bathroom</th>\n",
              "      <th>parking_space</th>\n",
              "      <th>price</th>\n",
              "    </tr>\n",
              "  </thead>\n",
              "  <tbody>\n",
              "    <tr>\n",
              "      <th>0</th>\n",
              "      <td>3583</td>\n",
              "      <td>Katsina</td>\n",
              "      <td>Semi-detached duplex</td>\n",
              "      <td>2.0</td>\n",
              "      <td>2.0</td>\n",
              "      <td>1.0</td>\n",
              "      <td>1149999.565</td>\n",
              "    </tr>\n",
              "    <tr>\n",
              "      <th>1</th>\n",
              "      <td>2748</td>\n",
              "      <td>Ondo</td>\n",
              "      <td>Apartment</td>\n",
              "      <td>NaN</td>\n",
              "      <td>2.0</td>\n",
              "      <td>4.0</td>\n",
              "      <td>1672416.689</td>\n",
              "    </tr>\n",
              "    <tr>\n",
              "      <th>2</th>\n",
              "      <td>9261</td>\n",
              "      <td>Ekiti</td>\n",
              "      <td>NaN</td>\n",
              "      <td>7.0</td>\n",
              "      <td>5.0</td>\n",
              "      <td>NaN</td>\n",
              "      <td>3364799.814</td>\n",
              "    </tr>\n",
              "    <tr>\n",
              "      <th>3</th>\n",
              "      <td>2224</td>\n",
              "      <td>Anambra</td>\n",
              "      <td>Detached duplex</td>\n",
              "      <td>5.0</td>\n",
              "      <td>2.0</td>\n",
              "      <td>4.0</td>\n",
              "      <td>2410306.756</td>\n",
              "    </tr>\n",
              "    <tr>\n",
              "      <th>4</th>\n",
              "      <td>10300</td>\n",
              "      <td>Kogi</td>\n",
              "      <td>Terrace duplex</td>\n",
              "      <td>NaN</td>\n",
              "      <td>5.0</td>\n",
              "      <td>6.0</td>\n",
              "      <td>2600700.898</td>\n",
              "    </tr>\n",
              "  </tbody>\n",
              "</table>\n",
              "</div>\n",
              "      <button class=\"colab-df-convert\" onclick=\"convertToInteractive('df-6c8341d5-6d62-4a39-8453-63da1dfa0b27')\"\n",
              "              title=\"Convert this dataframe to an interactive table.\"\n",
              "              style=\"display:none;\">\n",
              "\n",
              "  <svg xmlns=\"http://www.w3.org/2000/svg\" height=\"24px\"viewBox=\"0 0 24 24\"\n",
              "       width=\"24px\">\n",
              "    <path d=\"M0 0h24v24H0V0z\" fill=\"none\"/>\n",
              "    <path d=\"M18.56 5.44l.94 2.06.94-2.06 2.06-.94-2.06-.94-.94-2.06-.94 2.06-2.06.94zm-11 1L8.5 8.5l.94-2.06 2.06-.94-2.06-.94L8.5 2.5l-.94 2.06-2.06.94zm10 10l.94 2.06.94-2.06 2.06-.94-2.06-.94-.94-2.06-.94 2.06-2.06.94z\"/><path d=\"M17.41 7.96l-1.37-1.37c-.4-.4-.92-.59-1.43-.59-.52 0-1.04.2-1.43.59L10.3 9.45l-7.72 7.72c-.78.78-.78 2.05 0 2.83L4 21.41c.39.39.9.59 1.41.59.51 0 1.02-.2 1.41-.59l7.78-7.78 2.81-2.81c.8-.78.8-2.07 0-2.86zM5.41 20L4 18.59l7.72-7.72 1.47 1.35L5.41 20z\"/>\n",
              "  </svg>\n",
              "      </button>\n",
              "\n",
              "\n",
              "\n",
              "    <div id=\"df-79a36d27-dcab-4b0f-a018-7c2d4f1dcace\">\n",
              "      <button class=\"colab-df-quickchart\" onclick=\"quickchart('df-79a36d27-dcab-4b0f-a018-7c2d4f1dcace')\"\n",
              "              title=\"Suggest charts.\"\n",
              "              style=\"display:none;\">\n",
              "\n",
              "<svg xmlns=\"http://www.w3.org/2000/svg\" height=\"24px\"viewBox=\"0 0 24 24\"\n",
              "     width=\"24px\">\n",
              "    <g>\n",
              "        <path d=\"M19 3H5c-1.1 0-2 .9-2 2v14c0 1.1.9 2 2 2h14c1.1 0 2-.9 2-2V5c0-1.1-.9-2-2-2zM9 17H7v-7h2v7zm4 0h-2V7h2v10zm4 0h-2v-4h2v4z\"/>\n",
              "    </g>\n",
              "</svg>\n",
              "      </button>\n",
              "    </div>\n",
              "\n",
              "<style>\n",
              "  .colab-df-quickchart {\n",
              "    background-color: #E8F0FE;\n",
              "    border: none;\n",
              "    border-radius: 50%;\n",
              "    cursor: pointer;\n",
              "    display: none;\n",
              "    fill: #1967D2;\n",
              "    height: 32px;\n",
              "    padding: 0 0 0 0;\n",
              "    width: 32px;\n",
              "  }\n",
              "\n",
              "  .colab-df-quickchart:hover {\n",
              "    background-color: #E2EBFA;\n",
              "    box-shadow: 0px 1px 2px rgba(60, 64, 67, 0.3), 0px 1px 3px 1px rgba(60, 64, 67, 0.15);\n",
              "    fill: #174EA6;\n",
              "  }\n",
              "\n",
              "  [theme=dark] .colab-df-quickchart {\n",
              "    background-color: #3B4455;\n",
              "    fill: #D2E3FC;\n",
              "  }\n",
              "\n",
              "  [theme=dark] .colab-df-quickchart:hover {\n",
              "    background-color: #434B5C;\n",
              "    box-shadow: 0px 1px 3px 1px rgba(0, 0, 0, 0.15);\n",
              "    filter: drop-shadow(0px 1px 2px rgba(0, 0, 0, 0.3));\n",
              "    fill: #FFFFFF;\n",
              "  }\n",
              "</style>\n",
              "\n",
              "    <script>\n",
              "      async function quickchart(key) {\n",
              "        const containerElement = document.querySelector('#' + key);\n",
              "        const charts = await google.colab.kernel.invokeFunction(\n",
              "            'suggestCharts', [key], {});\n",
              "      }\n",
              "    </script>\n",
              "\n",
              "      <script>\n",
              "\n",
              "function displayQuickchartButton(domScope) {\n",
              "  let quickchartButtonEl =\n",
              "    domScope.querySelector('#df-79a36d27-dcab-4b0f-a018-7c2d4f1dcace button.colab-df-quickchart');\n",
              "  quickchartButtonEl.style.display =\n",
              "    google.colab.kernel.accessAllowed ? 'block' : 'none';\n",
              "}\n",
              "\n",
              "        displayQuickchartButton(document);\n",
              "      </script>\n",
              "      <style>\n",
              "    .colab-df-container {\n",
              "      display:flex;\n",
              "      flex-wrap:wrap;\n",
              "      gap: 12px;\n",
              "    }\n",
              "\n",
              "    .colab-df-convert {\n",
              "      background-color: #E8F0FE;\n",
              "      border: none;\n",
              "      border-radius: 50%;\n",
              "      cursor: pointer;\n",
              "      display: none;\n",
              "      fill: #1967D2;\n",
              "      height: 32px;\n",
              "      padding: 0 0 0 0;\n",
              "      width: 32px;\n",
              "    }\n",
              "\n",
              "    .colab-df-convert:hover {\n",
              "      background-color: #E2EBFA;\n",
              "      box-shadow: 0px 1px 2px rgba(60, 64, 67, 0.3), 0px 1px 3px 1px rgba(60, 64, 67, 0.15);\n",
              "      fill: #174EA6;\n",
              "    }\n",
              "\n",
              "    [theme=dark] .colab-df-convert {\n",
              "      background-color: #3B4455;\n",
              "      fill: #D2E3FC;\n",
              "    }\n",
              "\n",
              "    [theme=dark] .colab-df-convert:hover {\n",
              "      background-color: #434B5C;\n",
              "      box-shadow: 0px 1px 3px 1px rgba(0, 0, 0, 0.15);\n",
              "      filter: drop-shadow(0px 1px 2px rgba(0, 0, 0, 0.3));\n",
              "      fill: #FFFFFF;\n",
              "    }\n",
              "  </style>\n",
              "\n",
              "      <script>\n",
              "        const buttonEl =\n",
              "          document.querySelector('#df-6c8341d5-6d62-4a39-8453-63da1dfa0b27 button.colab-df-convert');\n",
              "        buttonEl.style.display =\n",
              "          google.colab.kernel.accessAllowed ? 'block' : 'none';\n",
              "\n",
              "        async function convertToInteractive(key) {\n",
              "          const element = document.querySelector('#df-6c8341d5-6d62-4a39-8453-63da1dfa0b27');\n",
              "          const dataTable =\n",
              "            await google.colab.kernel.invokeFunction('convertToInteractive',\n",
              "                                                     [key], {});\n",
              "          if (!dataTable) return;\n",
              "\n",
              "          const docLinkHtml = 'Like what you see? Visit the ' +\n",
              "            '<a target=\"_blank\" href=https://colab.research.google.com/notebooks/data_table.ipynb>data table notebook</a>'\n",
              "            + ' to learn more about interactive tables.';\n",
              "          element.innerHTML = '';\n",
              "          dataTable['output_type'] = 'display_data';\n",
              "          await google.colab.output.renderOutput(dataTable, element);\n",
              "          const docLink = document.createElement('div');\n",
              "          docLink.innerHTML = docLinkHtml;\n",
              "          element.appendChild(docLink);\n",
              "        }\n",
              "      </script>\n",
              "    </div>\n",
              "  </div>\n"
            ]
          },
          "metadata": {},
          "execution_count": 5
        }
      ],
      "source": [
        "train.head()"
      ]
    },
    {
      "cell_type": "code",
      "execution_count": 6,
      "metadata": {
        "id": "r1KRWaRxOEAM",
        "colab": {
          "base_uri": "https://localhost:8080/"
        },
        "outputId": "2f93869f-db18-4215-91ef-61d08edf4799"
      },
      "outputs": [
        {
          "output_type": "execute_result",
          "data": {
            "text/plain": [
              "['ID', 'loc', 'title', 'bedroom', 'bathroom', 'parking_space', 'price']"
            ]
          },
          "metadata": {},
          "execution_count": 6
        }
      ],
      "source": [
        "train.columns.tolist()"
      ]
    },
    {
      "cell_type": "code",
      "execution_count": 7,
      "metadata": {
        "id": "wO6gQfAW0KVn"
      },
      "outputs": [],
      "source": [
        "# sns.pairplot(train)"
      ]
    },
    {
      "cell_type": "code",
      "source": [
        "train = train.dropna(subset = ['loc','title'])"
      ],
      "metadata": {
        "id": "OtXm33OF3sPl"
      },
      "execution_count": 8,
      "outputs": []
    },
    {
      "cell_type": "code",
      "source": [
        "train.title.value_counts()"
      ],
      "metadata": {
        "colab": {
          "base_uri": "https://localhost:8080/"
        },
        "id": "pK6D0rb55vkE",
        "outputId": "cd068134-681a-4e07-f37c-4e160c4ec629"
      },
      "execution_count": 9,
      "outputs": [
        {
          "output_type": "execute_result",
          "data": {
            "text/plain": [
              "Flat                    1182\n",
              "Apartment               1147\n",
              "Townhouse               1139\n",
              "Semi-detached duplex    1133\n",
              "Mansion                 1125\n",
              "Detached duplex         1115\n",
              "Penthouse               1103\n",
              "Bungalow                1102\n",
              "Terrace duplex          1095\n",
              "Cottage                  390\n",
              "Name: title, dtype: int64"
            ]
          },
          "metadata": {},
          "execution_count": 9
        }
      ]
    },
    {
      "cell_type": "markdown",
      "metadata": {
        "id": "qCmtC-SKzRAs"
      },
      "source": [
        "# 4. DATA PREPROCESSING\n",
        "\n",
        "\n"
      ]
    },
    {
      "cell_type": "code",
      "execution_count": 10,
      "metadata": {
        "id": "Qk2VdZCaKFGV"
      },
      "outputs": [],
      "source": [
        "all = pd.concat([train, test], ignore_index = False)"
      ]
    },
    {
      "cell_type": "code",
      "execution_count": 11,
      "metadata": {
        "id": "XN72XAgV34h6"
      },
      "outputs": [],
      "source": [
        "all['log_price'] = np.log1p(all['price'])\n",
        "all['total_rooms'] = all['bedroom'] + all['bathroom']\n",
        "\n",
        "\n",
        "all['has_parking'] = all['parking_space'].apply(lambda x:  x > 0  )\n",
        "all['is_duplex'] = all['title'].astype(str).apply(lambda x: 'duplex' in x)\n",
        "\n",
        "all['bed_bath_interaction'] = all['bedroom'] * all['bathroom']\n",
        "all['bed_parking_interaction'] = all['bedroom'] * all['parking_space']\n",
        "all['bath_parking_interaction'] = all['bathroom'] * all['parking_space']\n",
        "\n",
        "all['loc_mean_log_price'] = all.groupby('loc')['log_price'].transform('mean')\n",
        "all['loc_std_log_price'] = all.groupby('loc')['log_price'].transform('std')\n",
        "\n",
        "all['title_mean_log_price'] = all.groupby('title')['log_price'].transform('mean')\n",
        "all['title_max_log_price'] = all.groupby('title')['log_price'].transform('max')\n",
        "all['title_std_log_price'] = all.groupby('title')['log_price'].transform('std')\n",
        "\n",
        "all['loc_avg_bedroom'] = all.groupby('loc')['total_rooms'].transform('mean')\n",
        "all['loc_max_bathroom'] = all.groupby('loc')['bathroom'].transform('max')\n",
        "\n",
        "all['location_length'] = all['loc'].astype(str).apply(len)\n",
        "all['title_length'] = all['title'].astype(str).apply(len)\n",
        "all['parking_ratio'] = all['parking_space'] / (all['bedroom'] + all['bathroom'])\n",
        "all['total_rooms_bin'] = all['total_rooms'] // 2\n",
        "\n",
        "\n",
        "def create_bin(column):\n",
        "  if column in range(1,3):\n",
        "    return '1-2'\n",
        "  elif column in range(3,5):\n",
        "    return '3-4'\n",
        "  elif column in range(5,7):\n",
        "    return '5-6'\n",
        "  else:\n",
        "    return 'higher'\n",
        "\n",
        "all['bedroom_bin']  = all.bedroom.apply(create_bin)\n",
        "all['bathroom_bin']  = all.bathroom.apply(create_bin)\n",
        "all['parking_bin']  = all.parking_space.apply(create_bin)\n",
        "\n",
        "all = all[all.columns.difference(['loc','title'])]\n",
        "all = pd.get_dummies(all, columns = ['bedroom_bin','bathroom_bin','parking_bin'])"
      ]
    },
    {
      "cell_type": "code",
      "source": [
        "all.shape"
      ],
      "metadata": {
        "colab": {
          "base_uri": "https://localhost:8080/"
        },
        "id": "NKUuaE1dzdN8",
        "outputId": "82d7bca0-979d-4c02-b24f-82bdc569dc84"
      },
      "execution_count": 12,
      "outputs": [
        {
          "output_type": "execute_result",
          "data": {
            "text/plain": [
              "(16531, 35)"
            ]
          },
          "metadata": {},
          "execution_count": 12
        }
      ]
    },
    {
      "cell_type": "code",
      "execution_count": 13,
      "metadata": {
        "id": "3X0Nr3JdK0qx"
      },
      "outputs": [],
      "source": [
        "train, test = all[all.price.notna()] , all[all.price.isna()]"
      ]
    },
    {
      "cell_type": "code",
      "source": [
        "\n",
        "train  = train[~((train['price'] > 800000) & ( train['parking_space'] <= 3) & (train['bedroom'] <= 3) & (train['bathroom']<=3) )  ]\n",
        "train = train[~((train['log_price'] > 16) & (train['total_rooms'] < 8))]"
      ],
      "metadata": {
        "id": "75nb8kExsiXa"
      },
      "execution_count": 14,
      "outputs": []
    },
    {
      "cell_type": "code",
      "execution_count": 15,
      "metadata": {
        "id": "tRJmUwga7zPw"
      },
      "outputs": [],
      "source": [
        "X,y = train.drop(['ID','price','log_price'],axis = 1), train['price']\n",
        "X_train,X_test,y_train,y_test = train_test_split(X,y, random_state = 42, test_size = .2) # best 'random state = 42'"
      ]
    },
    {
      "cell_type": "code",
      "execution_count": 16,
      "metadata": {
        "id": "9ETTnk54MlLH",
        "colab": {
          "base_uri": "https://localhost:8080/"
        },
        "outputId": "35e6068f-49ab-4631-9921-79de6f16827b"
      },
      "outputs": [
        {
          "output_type": "execute_result",
          "data": {
            "text/plain": [
              "(9431, 35)"
            ]
          },
          "metadata": {},
          "execution_count": 16
        }
      ],
      "source": [
        "train.shape"
      ]
    },
    {
      "cell_type": "markdown",
      "metadata": {
        "id": "Jkz9zmnUzZob"
      },
      "source": [
        "# 5. TRAINING A MODEL\n"
      ]
    },
    {
      "cell_type": "code",
      "execution_count": 17,
      "metadata": {
        "id": "H1RBG3nysDho",
        "colab": {
          "base_uri": "https://localhost:8080/"
        },
        "outputId": "84a29787-e911-42aa-b5ef-264f5f8d6f0b"
      },
      "outputs": [
        {
          "output_type": "execute_result",
          "data": {
            "text/plain": [
              "385158.18174465705"
            ]
          },
          "metadata": {},
          "execution_count": 17
        }
      ],
      "source": [
        "lg_params = {'subsample':.9,'max_depth': 2, 'learning_rate': 0.12169756811695075, 'max_iter': 284, 'min_child_weight': 8, 'l2_regularization': 0.047478207817647555, 'max_leaf_nodes': 90, 'max_bins': 81, 'random_state':0}\n",
        "cv_scores = cross_val_score(LGBMRegressor(**lg_params), X_train,y_train, cv = 5,scoring = 'neg_mean_squared_error', n_jobs = -1 )\n",
        "np.sqrt(-cv_scores.mean())"
      ]
    },
    {
      "cell_type": "code",
      "execution_count": 18,
      "metadata": {
        "id": "AG--_l8cESHn",
        "colab": {
          "base_uri": "https://localhost:8080/"
        },
        "outputId": "9f05d36e-a3ea-4c74-a182-dd750aaaf640"
      },
      "outputs": [
        {
          "output_type": "execute_result",
          "data": {
            "text/plain": [
              "385274.7575631086"
            ]
          },
          "metadata": {},
          "execution_count": 18
        }
      ],
      "source": [
        "\n",
        "cb_params = {\n",
        "    'silent':True,\n",
        "    'random_state':0,\n",
        "    'max_depth':2,\n",
        "    'min_child_samples':5,\n",
        "    'learning_rate':.118,\n",
        "}\n",
        "\n",
        "cv_scores = cross_val_score(CatBoostRegressor(**cb_params), X_train,y_train, cv = 5,scoring = 'neg_mean_squared_error', n_jobs = -1 )\n",
        "np.sqrt(-cv_scores.mean())\n"
      ]
    },
    {
      "cell_type": "code",
      "execution_count": 19,
      "metadata": {
        "id": "AM1TA7P1Etig",
        "colab": {
          "base_uri": "https://localhost:8080/"
        },
        "outputId": "31071b4a-862f-4ec8-cc5f-5780e356840b"
      },
      "outputs": [
        {
          "output_type": "execute_result",
          "data": {
            "text/plain": [
              "385904.3513937716"
            ]
          },
          "metadata": {},
          "execution_count": 19
        }
      ],
      "source": [
        "hist_params = {'random_state':0,'max_depth': 2, 'learning_rate': 0.05194253666954146, 'max_iter': 970, 'min_samples_leaf': 5, 'l2_regularization': 0.043711911345217194, 'max_leaf_nodes': 10, 'max_bins': 73}\n",
        "cv_scores = cross_val_score(HistGradientBoostingRegressor(**hist_params), X_train,y_train, cv = 5,scoring = 'neg_mean_squared_error', n_jobs = -1 )\n",
        "np.sqrt(-cv_scores.mean())"
      ]
    },
    {
      "cell_type": "code",
      "execution_count": 20,
      "metadata": {
        "id": "-P8hgxbm3NkC",
        "colab": {
          "base_uri": "https://localhost:8080/"
        },
        "outputId": "a2037331-6d89-466f-a1dc-82aa76eb5d4e"
      },
      "outputs": [
        {
          "output_type": "stream",
          "name": "stdout",
          "text": [
            "[LightGBM] [Warning] lambda_l2 is set with l2_regularization=0.047478207817647555, will be overridden by reg_lambda=0.0. Current value: lambda_l2=0.0\n",
            "[LightGBM] [Warning] num_leaves is set=31, max_leaf_nodes=90 will be ignored. Current value: num_leaves=31\n",
            "[LightGBM] [Warning] num_iterations is set=284, max_iter=284 will be ignored. Current value: num_iterations=284\n"
          ]
        },
        {
          "output_type": "execute_result",
          "data": {
            "text/plain": [
              "400410.13666149613"
            ]
          },
          "metadata": {},
          "execution_count": 20
        }
      ],
      "source": [
        "cat = CatBoostRegressor(**cb_params)\n",
        "hist = HistGradientBoostingRegressor(**hist_params)\n",
        "lg = LGBMRegressor(**lg_params)\n",
        "\n",
        "ensemble = VotingRegressor([('cat',cat),('hist',hist),('lg',lg)],weights = [4,3,2])\n",
        "ensemble.fit(X,y)\n",
        "ensemble_preds= ensemble.predict(X_test)\n",
        "mean_squared_error(y_test, ensemble_preds, squared = False) #rmse"
      ]
    },
    {
      "cell_type": "code",
      "source": [],
      "metadata": {
        "id": "b50qvoNvAFs8"
      },
      "execution_count": 20,
      "outputs": []
    },
    {
      "cell_type": "code",
      "execution_count": 21,
      "metadata": {
        "id": "1wHaqXLiE7hX"
      },
      "outputs": [],
      "source": [
        "# import warnings,optuna\n",
        "# warnings.filterwarnings('ignore')\n",
        "\n",
        "\n",
        "# def objective(trial):\n",
        "#     # Define the hyperparameters to tune\n",
        "#     params = {\n",
        "#         'max_depth': 2,\n",
        "#         'learning_rate': trial.suggest_loguniform('learning_rate', 0.01, 0.3),\n",
        "#         'max_iter': trial.suggest_int('max_iter', 100, 1000),\n",
        "#         'min_child_samples': trial.suggest_int('min_child_weight', 1, 10),\n",
        "#         'reg_lambda': trial.suggest_float('l2_regulariztion', 0.0, 0.1),\n",
        "#         'max_leaf_nodes': trial.suggest_int('max_leaf_nodes', 10, 100),\n",
        "#         'random_state':0,\n",
        "#         'max_bins':trial.suggest_int('max_bins', 20,200),\n",
        "#         # 'silent':True,\n",
        "#         'subsample':trial.suggest_float('subsample', 0.5, 1.0),\n",
        "#     }\n",
        "\n",
        "#     # Create the CatBoost classifier with the suggested hyperparameters\n",
        "#     clf = LGBMRegressor(**params)\n",
        "\n",
        "#     # Evaluate using cross-validation\n",
        "#     scores = cross_val_score(clf,X_train,y_train, cv=5,n_jobs = -1, scoring = 'neg_mean_squared_error')  # Replace X and y with your data\n",
        "#     # Return the mean cross-validation score as the objective value\n",
        "#     return np.sqrt(-scores.mean())\n",
        "\n",
        "\n",
        "# # Create the Optuna study\n",
        "# study = optuna.create_study(direction='minimize')\n",
        "# study.optimize(objective, n_trials=100)\n",
        "\n",
        "# # Print the best hyperparameters and objective value\n",
        "# best_params = study.best_params\n",
        "# best_score = study.best_value\n",
        "# print(\"Best Hyperparameters: \", best_params)\n",
        "# print(\"Best Objective Value: \", best_score)"
      ]
    },
    {
      "cell_type": "code",
      "execution_count": 22,
      "metadata": {
        "id": "vyXB0dP38TUd"
      },
      "outputs": [],
      "source": [
        "sub_file = pd.DataFrame({\n",
        "    'ID': test.ID,\n",
        "    'price': ensemble.predict(test[X.columns])\n",
        "})\n",
        "\n",
        "sub_file.to_csv('final ensemble.csv', index = False)"
      ]
    },
    {
      "cell_type": "code",
      "source": [],
      "metadata": {
        "id": "MxBQ5Ucqh2Cs"
      },
      "execution_count": 22,
      "outputs": []
    }
  ],
  "metadata": {
    "colab": {
      "provenance": [],
      "gpuType": "T4",
      "authorship_tag": "ABX9TyPkGBPXbQ2HPO+cbeQBwEO7",
      "include_colab_link": true
    },
    "kernelspec": {
      "display_name": "Python 3",
      "name": "python3"
    },
    "language_info": {
      "name": "python"
    },
    "accelerator": "GPU"
  },
  "nbformat": 4,
  "nbformat_minor": 0
}